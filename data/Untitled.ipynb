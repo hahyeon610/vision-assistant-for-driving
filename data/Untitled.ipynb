{
 "cells": [
  {
   "cell_type": "code",
   "execution_count": 1,
   "id": "2129aa2a",
   "metadata": {},
   "outputs": [],
   "source": [
    "import json"
   ]
  },
  {
   "cell_type": "code",
   "execution_count": 5,
   "id": "a22bb0ac",
   "metadata": {},
   "outputs": [],
   "source": [
    "with open(\"./vision-assistant-for-driving/data/BDD_train_data/BDD-Instruct.json\", \"r\") as f:\n",
    "    data = json.load(f)"
   ]
  },
  {
   "cell_type": "code",
   "execution_count": 9,
   "id": "c54c84c1",
   "metadata": {},
   "outputs": [
    {
     "name": "stdout",
     "output_type": "stream",
     "text": [
      "38936\n",
      "4449\n"
     ]
    }
   ],
   "source": [
    "ids = []\n",
    "for item in data:\n",
    "    ids.append(item['video_id'])\n",
    "\n",
    "print(len(ids))\n",
    "print(len(list(set(ids))))\n",
    "\n",
    "ids = list(set(ids))"
   ]
  },
  {
   "cell_type": "code",
   "execution_count": 12,
   "id": "992634ee",
   "metadata": {},
   "outputs": [],
   "source": [
    "train_ids = ids[:int(len(ids)*0.7)]\n",
    "val_ids = ids[int(len(ids)*0.7):int(len(ids)*0.9)]\n",
    "test_ids = ids[int(len(ids)*0.9):]"
   ]
  },
  {
   "cell_type": "code",
   "execution_count": 13,
   "id": "a812782a",
   "metadata": {},
   "outputs": [
    {
     "name": "stdout",
     "output_type": "stream",
     "text": [
      "25391\n",
      "9311\n",
      "4234\n"
     ]
    }
   ],
   "source": [
    "train_set = []\n",
    "val_set = []\n",
    "test_set = []\n",
    "\n",
    "for item in data:\n",
    "    if item['video_id'] in train_ids:\n",
    "        train_set.append(item)\n",
    "    elif item['video_id'] in val_ids:\n",
    "        val_set.append(item)\n",
    "    else:\n",
    "        test_set.append(item)\n",
    "        \n",
    "print(len(train_set))\n",
    "print(len(val_set))\n",
    "print(len(test_set))"
   ]
  },
  {
   "cell_type": "code",
   "execution_count": 15,
   "id": "64242693",
   "metadata": {},
   "outputs": [],
   "source": [
    "with open(\"./vision-assistant-for-driving/data/BDD_train_data/BDD-instruct-train.json\", \"w\") as f:\n",
    "    json.dump(train_set, f)\n",
    "    \n",
    "with open(\"./vision-assistant-for-driving/data/BDD_train_data/BDD-instruct-val.json\", \"w\") as f:\n",
    "    json.dump(val_set, f)\n",
    "    \n",
    "with open(\"./vision-assistant-for-driving/data/BDD_train_data/BDD-instruct-test.json\", \"w\") as f:\n",
    "    json.dump(test_set, f)"
   ]
  },
  {
   "cell_type": "markdown",
   "id": "645eb0b4",
   "metadata": {},
   "source": []
  },
  {
   "cell_type": "code",
   "execution_count": null,
   "id": "df02d501",
   "metadata": {},
   "outputs": [],
   "source": []
  },
  {
   "cell_type": "code",
   "execution_count": null,
   "id": "ac47027b",
   "metadata": {},
   "outputs": [],
   "source": []
  },
  {
   "cell_type": "code",
   "execution_count": 19,
   "id": "b8f0ca1d",
   "metadata": {},
   "outputs": [],
   "source": [
    "with open(\"./vision-assistant-for-driving/data/DRAMA_train_data/DRAMA-instruct.json\", \"r\") as f:\n",
    "    data = json.load(f)"
   ]
  },
  {
   "cell_type": "code",
   "execution_count": 20,
   "id": "2c6cbaa0",
   "metadata": {},
   "outputs": [
    {
     "name": "stdout",
     "output_type": "stream",
     "text": [
      "5960\n",
      "1983\n"
     ]
    }
   ],
   "source": [
    "ids = []\n",
    "for item in data:\n",
    "    ids.append(item['video_id'])\n",
    "\n",
    "print(len(ids))\n",
    "print(len(list(set(ids))))\n",
    "\n",
    "ids = list(set(ids))"
   ]
  },
  {
   "cell_type": "code",
   "execution_count": 21,
   "id": "8f15b371",
   "metadata": {},
   "outputs": [],
   "source": [
    "train_ids = ids[:int(len(ids)*0.7)]\n",
    "val_ids = ids[int(len(ids)*0.7):int(len(ids)*0.9)]\n",
    "test_ids = ids[int(len(ids)*0.9):]"
   ]
  },
  {
   "cell_type": "code",
   "execution_count": 22,
   "id": "7bd056e2",
   "metadata": {},
   "outputs": [
    {
     "name": "stdout",
     "output_type": "stream",
     "text": [
      "4188\n",
      "1179\n",
      "593\n"
     ]
    }
   ],
   "source": [
    "train_set = []\n",
    "val_set = []\n",
    "test_set = []\n",
    "\n",
    "for item in data:\n",
    "    if item['video_id'] in train_ids:\n",
    "        train_set.append(item)\n",
    "    elif item['video_id'] in val_ids:\n",
    "        val_set.append(item)\n",
    "    else:\n",
    "        test_set.append(item)\n",
    "        \n",
    "print(len(train_set))\n",
    "print(len(val_set))\n",
    "print(len(test_set))"
   ]
  },
  {
   "cell_type": "code",
   "execution_count": 23,
   "id": "ba83cb4f",
   "metadata": {},
   "outputs": [],
   "source": [
    "with open(\"./vision-assistant-for-driving/data/DRAMA_train_data/DRAMA-instruct-train.json\", \"w\") as f:\n",
    "    json.dump(train_set, f)\n",
    "    \n",
    "with open(\"./vision-assistant-for-driving/data/DRAMA_train_data/DRAMA-instruct-val.json\", \"w\") as f:\n",
    "    json.dump(val_set, f)\n",
    "    \n",
    "with open(\"./vision-assistant-for-driving/data/DRAMA_train_data/DRAMA-instruct-test.json\", \"w\") as f:\n",
    "    json.dump(test_set, f)"
   ]
  },
  {
   "cell_type": "code",
   "execution_count": null,
   "id": "b4e68ab7",
   "metadata": {},
   "outputs": [],
   "source": []
  },
  {
   "cell_type": "code",
   "execution_count": null,
   "id": "b5c18128",
   "metadata": {},
   "outputs": [],
   "source": []
  },
  {
   "cell_type": "code",
   "execution_count": null,
   "id": "72c3a82b",
   "metadata": {},
   "outputs": [],
   "source": []
  },
  {
   "cell_type": "code",
   "execution_count": 24,
   "id": "836c3275",
   "metadata": {},
   "outputs": [],
   "source": [
    "with open(\"./vision-assistant-for-driving/data/HAD_train_data/HAD-Instruct.json\", \"r\") as f:\n",
    "    data = json.load(f)"
   ]
  },
  {
   "cell_type": "code",
   "execution_count": 25,
   "id": "2ebd0a00",
   "metadata": {},
   "outputs": [
    {
     "name": "stdout",
     "output_type": "stream",
     "text": [
      "24905\n",
      "5610\n"
     ]
    }
   ],
   "source": [
    "ids = []\n",
    "for item in data:\n",
    "    ids.append(item['video_id'])\n",
    "\n",
    "print(len(ids))\n",
    "print(len(list(set(ids))))\n",
    "\n",
    "ids = list(set(ids))"
   ]
  },
  {
   "cell_type": "code",
   "execution_count": 26,
   "id": "f3f4d4d6",
   "metadata": {},
   "outputs": [],
   "source": [
    "train_ids = ids[:int(len(ids)*0.7)]\n",
    "val_ids = ids[int(len(ids)*0.7):int(len(ids)*0.9)]\n",
    "test_ids = ids[int(len(ids)*0.9):]"
   ]
  },
  {
   "cell_type": "code",
   "execution_count": 27,
   "id": "0b1e3e41",
   "metadata": {},
   "outputs": [
    {
     "name": "stdout",
     "output_type": "stream",
     "text": [
      "17321\n",
      "5097\n",
      "2487\n"
     ]
    }
   ],
   "source": [
    "train_set = []\n",
    "val_set = []\n",
    "test_set = []\n",
    "\n",
    "for item in data:\n",
    "    if item['video_id'] in train_ids:\n",
    "        train_set.append(item)\n",
    "    elif item['video_id'] in val_ids:\n",
    "        val_set.append(item)\n",
    "    else:\n",
    "        test_set.append(item)\n",
    "        \n",
    "print(len(train_set))\n",
    "print(len(val_set))\n",
    "print(len(test_set))"
   ]
  },
  {
   "cell_type": "code",
   "execution_count": 29,
   "id": "81b1dd4a",
   "metadata": {},
   "outputs": [],
   "source": [
    "dataset = \"HAD\"\n",
    "\n",
    "with open(f\"./vision-assistant-for-driving/data/{dataset}_train_data/{dataset}-instruct-train.json\", \"w\") as f:\n",
    "    json.dump(train_set, f)\n",
    "    \n",
    "with open(f\"./vision-assistant-for-driving/data/{dataset}_train_data/{dataset}-instruct-val.json\", \"w\") as f:\n",
    "    json.dump(val_set, f)\n",
    "    \n",
    "with open(f\"./vision-assistant-for-driving/data/{dataset}_train_data/{dataset}-instruct-test.json\", \"w\") as f:\n",
    "    json.dump(test_set, f)"
   ]
  },
  {
   "cell_type": "code",
   "execution_count": null,
   "id": "2f59b9a3",
   "metadata": {},
   "outputs": [],
   "source": []
  },
  {
   "cell_type": "code",
   "execution_count": null,
   "id": "48e7e636",
   "metadata": {},
   "outputs": [],
   "source": []
  },
  {
   "cell_type": "code",
   "execution_count": null,
   "id": "c7610648",
   "metadata": {},
   "outputs": [],
   "source": []
  },
  {
   "cell_type": "code",
   "execution_count": 30,
   "id": "75c566a0",
   "metadata": {},
   "outputs": [],
   "source": [
    "with open(\"./vision-assistant-for-driving/data/MAPLM_train_data/MAPLM-instruct.json\", \"r\") as f:\n",
    "    data = json.load(f)"
   ]
  },
  {
   "cell_type": "code",
   "execution_count": 32,
   "id": "335a60cb",
   "metadata": {},
   "outputs": [
    {
     "name": "stdout",
     "output_type": "stream",
     "text": [
      "46968\n",
      "13775\n"
     ]
    }
   ],
   "source": [
    "ids = []\n",
    "for item in data:\n",
    "    ids.append(item['image'])\n",
    "\n",
    "print(len(ids))\n",
    "print(len(list(set(ids))))\n",
    "\n",
    "ids = list(set(ids))"
   ]
  },
  {
   "cell_type": "code",
   "execution_count": 33,
   "id": "e65d7a89",
   "metadata": {},
   "outputs": [],
   "source": [
    "train_ids = ids[:int(len(ids)*0.7)]\n",
    "val_ids = ids[int(len(ids)*0.7):int(len(ids)*0.9)]\n",
    "test_ids = ids[int(len(ids)*0.9):]"
   ]
  },
  {
   "cell_type": "code",
   "execution_count": 35,
   "id": "8697d3fa",
   "metadata": {},
   "outputs": [
    {
     "name": "stdout",
     "output_type": "stream",
     "text": [
      "32902\n",
      "9364\n",
      "4702\n"
     ]
    }
   ],
   "source": [
    "train_set = []\n",
    "val_set = []\n",
    "test_set = []\n",
    "\n",
    "for item in data:\n",
    "    if item['image'] in train_ids:\n",
    "        train_set.append(item)\n",
    "    elif item['image'] in val_ids:\n",
    "        val_set.append(item)\n",
    "    else:\n",
    "        test_set.append(item)\n",
    "        \n",
    "print(len(train_set))\n",
    "print(len(val_set))\n",
    "print(len(test_set))"
   ]
  },
  {
   "cell_type": "code",
   "execution_count": 36,
   "id": "53cb247e",
   "metadata": {},
   "outputs": [],
   "source": [
    "dataset = \"MAPLM\"\n",
    "\n",
    "with open(f\"./vision-assistant-for-driving/data/{dataset}_train_data/{dataset}-instruct-train.json\", \"w\") as f:\n",
    "    json.dump(train_set, f)\n",
    "    \n",
    "with open(f\"./vision-assistant-for-driving/data/{dataset}_train_data/{dataset}-instruct-val.json\", \"w\") as f:\n",
    "    json.dump(val_set, f)\n",
    "    \n",
    "with open(f\"./vision-assistant-for-driving/data/{dataset}_train_data/{dataset}-instruct-test.json\", \"w\") as f:\n",
    "    json.dump(test_set, f)"
   ]
  },
  {
   "cell_type": "code",
   "execution_count": null,
   "id": "c3dad79c",
   "metadata": {},
   "outputs": [],
   "source": []
  }
 ],
 "metadata": {
  "kernelspec": {
   "display_name": "Python 3 (ipykernel)",
   "language": "python",
   "name": "python3"
  },
  "language_info": {
   "codemirror_mode": {
    "name": "ipython",
    "version": 3
   },
   "file_extension": ".py",
   "mimetype": "text/x-python",
   "name": "python",
   "nbconvert_exporter": "python",
   "pygments_lexer": "ipython3",
   "version": "3.8.10"
  }
 },
 "nbformat": 4,
 "nbformat_minor": 5
}
